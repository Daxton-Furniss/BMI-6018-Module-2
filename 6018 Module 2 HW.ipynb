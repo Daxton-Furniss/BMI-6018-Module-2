{
 "cells": [
  {
   "cell_type": "code",
   "execution_count": 1,
   "id": "6c8646df",
   "metadata": {},
   "outputs": [
    {
     "data": {
      "text/plain": [
       "2"
      ]
     },
     "execution_count": 1,
     "metadata": {},
     "output_type": "execute_result"
    }
   ],
   "source": [
    "# boolean True + boolean True - boolean False = ?\n",
    "bool(True) + bool(True) - bool(False)"
   ]
  },
  {
   "cell_type": "code",
   "execution_count": 4,
   "id": "d2bcb070",
   "metadata": {},
   "outputs": [],
   "source": [
    "# Boolean Question 2\n",
    "x = True "
   ]
  },
  {
   "cell_type": "code",
   "execution_count": 6,
   "id": "283daac1",
   "metadata": {},
   "outputs": [],
   "source": [
    "x = x + x"
   ]
  },
  {
   "cell_type": "code",
   "execution_count": 7,
   "id": "6c62dbd0",
   "metadata": {},
   "outputs": [],
   "source": [
    "x = x | (x-x)"
   ]
  },
  {
   "cell_type": "code",
   "execution_count": 9,
   "id": "7b274e24",
   "metadata": {},
   "outputs": [
    {
     "name": "stdout",
     "output_type": "stream",
     "text": [
      "True\n"
     ]
    }
   ],
   "source": [
    "print(bool(x))"
   ]
  },
  {
   "cell_type": "code",
   "execution_count": 11,
   "id": "d321acaa",
   "metadata": {},
   "outputs": [],
   "source": [
    "# Question 5: Strings \n",
    "string = \"E. Coli\""
   ]
  },
  {
   "cell_type": "code",
   "execution_count": 12,
   "id": "45ad3228",
   "metadata": {},
   "outputs": [
    {
     "data": {
      "text/plain": [
       "' '"
      ]
     },
     "execution_count": 12,
     "metadata": {},
     "output_type": "execute_result"
    }
   ],
   "source": [
    "string[2]"
   ]
  },
  {
   "cell_type": "code",
   "execution_count": 13,
   "id": "3d39c1e1",
   "metadata": {},
   "outputs": [],
   "source": [
    "# Question 6: String 2\n",
    "string = \"I Bove python\""
   ]
  },
  {
   "cell_type": "code",
   "execution_count": 14,
   "id": "066d27b8",
   "metadata": {},
   "outputs": [
    {
     "ename": "TypeError",
     "evalue": "'str' object does not support item assignment",
     "output_type": "error",
     "traceback": [
      "\u001b[0;31m---------------------------------------------------------------------------\u001b[0m",
      "\u001b[0;31mTypeError\u001b[0m                                 Traceback (most recent call last)",
      "Cell \u001b[0;32mIn[14], line 1\u001b[0m\n\u001b[0;32m----> 1\u001b[0m string[\u001b[38;5;241m2\u001b[39m]\u001b[38;5;241m=\u001b[39m\u001b[38;5;124m\"\u001b[39m\u001b[38;5;124mL\u001b[39m\u001b[38;5;124m\"\u001b[39m\n",
      "\u001b[0;31mTypeError\u001b[0m: 'str' object does not support item assignment"
     ]
    }
   ],
   "source": [
    "string[2]=\"L\""
   ]
  },
  {
   "cell_type": "code",
   "execution_count": 22,
   "id": "a386c86b",
   "metadata": {},
   "outputs": [
    {
     "name": "stdout",
     "output_type": "stream",
     "text": [
      "<class 'int'>\n"
     ]
    }
   ],
   "source": [
    "# Question 7 \n",
    "Medication = 5 \n",
    "\n",
    "print(type(Medication))"
   ]
  },
  {
   "cell_type": "code",
   "execution_count": null,
   "id": "3ac6b656",
   "metadata": {},
   "outputs": [],
   "source": [
    "# Question 8 \n",
    "Susan_weight = 60\n",
    "Susan_height = 1.58\n",
    "BMI = (Susan_weight / (Susan_height**2))"
   ]
  },
  {
   "cell_type": "code",
   "execution_count": 24,
   "id": "96130675",
   "metadata": {},
   "outputs": [
    {
     "data": {
      "text/plain": [
       "24.034609838166958"
      ]
     },
     "execution_count": 24,
     "metadata": {},
     "output_type": "execute_result"
    }
   ],
   "source": [
    "BMI "
   ]
  },
  {
   "cell_type": "code",
   "execution_count": 28,
   "id": "c996cca1",
   "metadata": {},
   "outputs": [
    {
     "data": {
      "text/plain": [
       "6374"
      ]
     },
     "execution_count": 28,
     "metadata": {},
     "output_type": "execute_result"
    }
   ],
   "source": [
    "# Question 9: Operators \n",
    "\n",
    "356 + 6018 "
   ]
  },
  {
   "cell_type": "code",
   "execution_count": 27,
   "id": "941445e4",
   "metadata": {},
   "outputs": [
    {
     "data": {
      "text/plain": [
       "'3566018'"
      ]
     },
     "execution_count": 27,
     "metadata": {},
     "output_type": "execute_result"
    }
   ],
   "source": [
    "\"356\" + \"6018\""
   ]
  },
  {
   "cell_type": "code",
   "execution_count": 29,
   "id": "d7f1cec4",
   "metadata": {},
   "outputs": [
    {
     "data": {
      "text/plain": [
       "'73'"
      ]
     },
     "execution_count": 29,
     "metadata": {},
     "output_type": "execute_result"
    }
   ],
   "source": [
    "# Question 10: Strings 3\n",
    "\n",
    "\"7\" + \"3\""
   ]
  }
 ],
 "metadata": {
  "kernelspec": {
   "display_name": "Python 3 (ipykernel)",
   "language": "python",
   "name": "python3"
  },
  "language_info": {
   "codemirror_mode": {
    "name": "ipython",
    "version": 3
   },
   "file_extension": ".py",
   "mimetype": "text/x-python",
   "name": "python",
   "nbconvert_exporter": "python",
   "pygments_lexer": "ipython3",
   "version": "3.11.3"
  }
 },
 "nbformat": 4,
 "nbformat_minor": 5
}
